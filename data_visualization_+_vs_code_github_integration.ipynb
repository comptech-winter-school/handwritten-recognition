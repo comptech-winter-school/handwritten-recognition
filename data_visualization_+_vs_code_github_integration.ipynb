{
  "nbformat": 4,
  "nbformat_minor": 0,
  "metadata": {
    "colab": {
      "name": "data visualization + vs code github_integration.ipynb",
      "provenance": [],
      "collapsed_sections": [
        "9La1MSsUTD-D"
      ],
      "toc_visible": true,
      "include_colab_link": true
    },
    "kernelspec": {
      "name": "python3",
      "display_name": "Python 3"
    },
    "accelerator": "GPU"
  },
  "cells": [
    {
      "cell_type": "markdown",
      "metadata": {
        "id": "view-in-github",
        "colab_type": "text"
      },
      "source": [
        "<a href=\"https://colab.research.google.com/github/ZackPashkin/ocr_pytorch/blob/main/data_visualization_%2B_vs_code_github_integration.ipynb\" target=\"_parent\"><img src=\"https://colab.research.google.com/assets/colab-badge.svg\" alt=\"Open In Colab\"/></a>"
      ]
    },
    {
      "cell_type": "markdown",
      "metadata": {
        "id": "9La1MSsUTD-D"
      },
      "source": [
        "# SSH connection to google colab GPU instance"
      ]
    },
    {
      "cell_type": "code",
      "metadata": {
        "cellView": "form",
        "id": "ESthYWEqOQus"
      },
      "source": [
        "#@title Mount permanent storage\n",
        "def mount_storage():\n",
        "  from google.colab import auth\n",
        "  import os\n",
        "  auth.authenticate_user()\n",
        "  !echo \"deb http://packages.cloud.google.com/apt gcsfuse-bionic main\" > /etc/apt/sources.list.d/gcsfuse.list\n",
        "  !curl https://packages.cloud.google.com/apt/doc/apt-key.gpg | apt-key add -\n",
        "  !apt -qq update\n",
        "  !apt -qq install gcsfuse\n",
        "  os.makedirs(\"handwritten_rus\",exist_ok=True)\n",
        "  # bucket name only name without prefix gs:// \n",
        "  #for example if bucket name is gs://helloworld then \n",
        "  !gcsfuse handwritten_rus handwritten_rus\n",
        "  #now you should be able to read/write to dir_name as for usual folder\n",
        "  print(\"mounted to /content/mounted_storage\")\n",
        "mount_storage()\n",
        "\n",
        "!ls /content/handwritten_rus\n",
        "\n",
        "!touch /content/handwritten_rus/test.txt"
      ],
      "execution_count": null,
      "outputs": []
    },
    {
      "cell_type": "code",
      "metadata": {
        "id": "hmcrv-IyHKrf",
        "cellView": "form"
      },
      "source": [
        "#@title Setup tunnel for ssh from vscode \n",
        "\n",
        "#1 - setup ssh/user \n",
        "\n",
        "\n",
        "#Generate a random root password\n",
        "import random, string\n",
        "password = ''.join(random.choice(string.ascii_letters + string.digits) for i in range(30))\n",
        "\n",
        "\n",
        "#Setup sshd\n",
        "! apt-get install -qq -o=Dpkg::Use-Pty=0 openssh-server pwgen > /dev/null\n",
        "\n",
        "#Set root password\n",
        "! echo root:$password | chpasswd\n",
        "! mkdir -p /var/run/sshd\n",
        "! echo \"PermitRootLogin yes\" >> /etc/ssh/sshd_config\n",
        "! echo \"PasswordAuthentication yes\" >> /etc/ssh/sshd_config\n",
        "\n",
        "print(\"username: root\")\n",
        "print(\"password: \", password)\n",
        "\n",
        "#Run sshd\n",
        "get_ipython().system_raw('/usr/sbin/sshd -D &')\n",
        "\n",
        "\n",
        "\n",
        "! wget -q -c -nc https://bin.equinox.io/c/4VmDzA7iaHb/ngrok-stable-linux-amd64.zip\n",
        "! unzip -qq -n ngrok-stable-linux-amd64.zip\n",
        "\n",
        "# 3 - setup Ngrok - authtoken\n",
        "\n",
        "#Ask token\n",
        "print(\"Get your authtoken from https://dashboard.ngrok.com/auth\")\n",
        "import getpass\n",
        "authtoken = getpass.getpass()\n",
        "\n",
        "#Create tunnel\n",
        "get_ipython().system_raw('./ngrok authtoken $authtoken && ./ngrok tcp 22 &')\n",
        "print('https://dashboard.ngrok.com/status/tunnels')"
      ],
      "execution_count": null,
      "outputs": []
    },
    {
      "cell_type": "code",
      "metadata": {
        "id": "Ag-105Yq1Xif",
        "cellView": "form"
      },
      "source": [
        "#@title Format link for ssh connection\n",
        "\n",
        "# copy from here https://dashboard.ngrok.com/status/tunnels\n",
        "#tcp://2.tcp.ngrok.io:10147\n",
        "\n",
        "#vscode remote ssh format:\n",
        "#root@2.tcp.ngrok.io:17892\n",
        "#enter password from above\n",
        "\n",
        "# format tunnel link for vscode\n",
        "TUNNEL_LINK = input(\"Input link from https://dashboard.ngrok.com/status/tunnels: \")\n",
        "TUNNEL_LINK = TUNNEL_LINK.replace('tcp://', 'root@')\n",
        "print(TUNNEL_LINK)\n",
        "print(\"password: \", password)\n",
        "print('\\x1b[6;30;42m' + f\"Open Remote SSH: Connect to host in vscode \\n\\n and pass {TUNNEL_LINK}\"  + '\\x1b[0m')\n",
        "print('\\x1b[6;30;42m' + f\"Then press continue and enter password {password}\"  + '\\x1b[0m')"
      ],
      "execution_count": null,
      "outputs": []
    },
    {
      "cell_type": "code",
      "metadata": {
        "id": "raktDP8bMg4W"
      },
      "source": [
        "# enable nvidia-smi\n",
        "export LD_PRELOAD=/usr/lib64-nvidia/libnvidia-ml.so\n",
        "nvidia-smi"
      ],
      "execution_count": null,
      "outputs": []
    },
    {
      "cell_type": "code",
      "metadata": {
        "id": "nh0NZuaqHQgS"
      },
      "source": [
        "# create project on github and clone\n",
        "# configure git\n",
        "~/ocr_pytorch# git config --global user.email xxx@gmail.com\n",
        "~/ocr_pytorch# git config --global user.name \"xxx\""
      ],
      "execution_count": null,
      "outputs": []
    },
    {
      "cell_type": "code",
      "metadata": {
        "id": "6d-J7NVxHZHp"
      },
      "source": [
        "# add extentions for vscode\n",
        "# tabnine\n",
        "# Press Cmd+P in your Visual Studio Code, paste the following command, and press Enter.\n",
        "# ext install TabNine.tabnine-vscode\n",
        "# add python interpreter"
      ],
      "execution_count": null,
      "outputs": []
    },
    {
      "cell_type": "code",
      "metadata": {
        "id": "ElLYgdYFXu7c"
      },
      "source": [
        "#to prevent colab shutdown\n",
        "import time \n",
        "time.sleep(1000000000)"
      ],
      "execution_count": null,
      "outputs": []
    },
    {
      "cell_type": "markdown",
      "metadata": {
        "id": "TWSpmNTQ5sZH"
      },
      "source": [
        "# Visualize data"
      ]
    },
    {
      "cell_type": "code",
      "metadata": {
        "cellView": "form",
        "id": "3Fdfk9xp5v4I"
      },
      "source": [
        "#@title\n",
        "import sys\n",
        "sys.path.append(\"/content/ocr_pytorch/src\")\n",
        "from config import *\n",
        "from dataset import *\n",
        "from train import *\n",
        "import matplotlib.pyplot as plt\n",
        "%matplotlib inline"
      ],
      "execution_count": null,
      "outputs": []
    },
    {
      "cell_type": "code",
      "metadata": {
        "cellView": "form",
        "id": "rzxqDOmT5toX"
      },
      "source": [
        "#@title\n",
        "\n",
        "(\n",
        "    train_img,\n",
        "    test_img, \n",
        "    train_labels, \n",
        "    test_labels, \n",
        "    train_orig_labels, \n",
        "    test_orig_targets,\n",
        ")   =model_selection.train_test_split(\n",
        "        IMAGES, LABELS_ENCODED, LABELS_NAMES, test_size=0.1, random_state=2020)\n",
        "\n",
        "train_dataset = OcrDataset(image_path=train_img, \n",
        "                            labels=train_labels, \n",
        "                            resize=(IMAGE_HEIGHT,IMAGE_WIDTH)\n",
        "                          )\n",
        "\n",
        "train_loader = torch.utils.data.DataLoader(\n",
        "    train_dataset,\n",
        "    batch_size=BATCH_SIZE,\n",
        "    num_workers=NUM_WORKERS,\n",
        "    shuffle=True\n",
        ")\n",
        "\n",
        "\n",
        "test_dataset = OcrDataset(image_path=test_img, \n",
        "                            labels=test_labels, \n",
        "                            resize=(IMAGE_HEIGHT,IMAGE_WIDTH)\n",
        "                          )\n",
        "\n",
        "test_loader = torch.utils.data.DataLoader(\n",
        "    test_dataset,\n",
        "    batch_size=BATCH_SIZE,\n",
        "    num_workers=NUM_WORKERS,\n",
        "    shuffle=False\n",
        ")\n",
        "    "
      ],
      "execution_count": null,
      "outputs": []
    },
    {
      "cell_type": "code",
      "metadata": {
        "colab": {
          "base_uri": "https://localhost:8080/",
          "height": 152
        },
        "cellView": "form",
        "id": "vOUC7kvD7COh",
        "outputId": "3c2fb012-064f-40f5-a40d-8fb6630ff3d7"
      },
      "source": [
        "#@title\n",
        "np_img = train_dataset[80][\"images\"].numpy()\n",
        "np_img  = np.transpose(np_img, (1,2,0))\n",
        "plt.imshow(np_img)"
      ],
      "execution_count": null,
      "outputs": [
        {
          "output_type": "execute_result",
          "data": {
            "text/plain": [
              "<matplotlib.image.AxesImage at 0x7f1292275048>"
            ]
          },
          "metadata": {
            "tags": []
          },
          "execution_count": 10
        },
        {
          "output_type": "display_data",
          "data": {
            "image/png": "[encoded data removed]",
            "text/plain": [
              "<Figure size 432x288 with 1 Axes>"
            ]
          },
          "metadata": {
            "tags": [],
            "needs_background": "light"
          }
        }
      ]
    },
    {
      "cell_type": "code",
      "metadata": {
        "cellView": "form",
        "id": "Z30G_umX7eSI"
      },
      "source": [
        "#@title\n"
      ],
      "execution_count": null,
      "outputs": []
    }
  ]
}
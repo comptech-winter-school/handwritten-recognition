{
  "nbformat": 4,
  "nbformat_minor": 0,
  "metadata": {
    "colab": {
      "name": " dev ocr handwriting reader comptech 2021 bot telegram.ipynb",
      "provenance": [],
      "collapsed_sections": [],
      "toc_visible": true
    },
    "kernelspec": {
      "name": "python3",
      "display_name": "Python 3"
    },
    "accelerator": "GPU"
  },
  "cells": [
    {
      "cell_type": "code",
      "metadata": {
        "id": "posIrgH5I2nv"
      },
      "source": [
        ""
      ],
      "execution_count": null,
      "outputs": []
    },
    {
      "cell_type": "code",
      "metadata": {
        "id": "FnwaIoc6eZp6"
      },
      "source": [
        "import time\r\n",
        "import requests\r\n",
        "from flask import Flask, request\r\n",
        "import json\r\n",
        "from PIL import Image\r\n",
        "import numpy as np\r\n",
        "import matplotlib.pyplot as plt"
      ],
      "execution_count": 35,
      "outputs": []
    },
    {
      "cell_type": "code",
      "metadata": {
        "id": "vP1UyrZIf-PW"
      },
      "source": [
        "TOKEN = \"1673852036:AAESmCKM-4bXapg1ZUutdZ5ogvd-n1ZSHVs\"\r\n",
        "PORT = 5000"
      ],
      "execution_count": 36,
      "outputs": []
    },
    {
      "cell_type": "code",
      "metadata": {
        "id": "W8Gl2cWdf-Rk"
      },
      "source": [
        ""
      ],
      "execution_count": 19,
      "outputs": []
    },
    {
      "cell_type": "markdown",
      "metadata": {
        "id": "JDL1e-nUm-rv"
      },
      "source": [
        "# Определяем функции:"
      ]
    },
    {
      "cell_type": "code",
      "metadata": {
        "id": "Msg882k_ekAH"
      },
      "source": [
        "def read_server_url(): # вычитываем url выданный для нашего сервиса.\r\n",
        "  with open('nohup.out', 'r') as f:\r\n",
        "    return f.read().split(': ')[-1].split('\\n')[0]"
      ],
      "execution_count": 20,
      "outputs": []
    },
    {
      "cell_type": "code",
      "metadata": {
        "id": "HghH-66fgS5p"
      },
      "source": [
        "def make_api_url(method): \r\n",
        "  return f\"https://api.telegram.org/bot{TOKEN}/{method}\""
      ],
      "execution_count": 21,
      "outputs": []
    },
    {
      "cell_type": "code",
      "metadata": {
        "id": "q6VVUkwP1Hel"
      },
      "source": [
        "def set_webhook(server_url):\r\n",
        "  api_url = make_api_url('setWebhook')\r\n",
        "  post_data = {\r\n",
        "      \"url\": server_url,\r\n",
        "      }\r\n",
        "  x = requests.post(api_url, data = post_data, headers={'header': 'Content-Type: application/json'})\r\n",
        "  return x.json()['ok']"
      ],
      "execution_count": 22,
      "outputs": []
    },
    {
      "cell_type": "code",
      "metadata": {
        "id": "xFaAxM6Wj4ij"
      },
      "source": [
        "def send_message(chat_id, text):\r\n",
        "    method = \"sendMessage\"\r\n",
        "    url = make_api_url(method)\r\n",
        "    data = {\"chat_id\": chat_id, \"text\": text}\r\n",
        "    requests.post(url, data=data)"
      ],
      "execution_count": 23,
      "outputs": []
    },
    {
      "cell_type": "code",
      "metadata": {
        "id": "SWvla2PouAWb"
      },
      "source": [
        "def get_photo_path(photo_id, server_url):\r\n",
        "  api_url = make_api_url('getFile')\r\n",
        "  post_data = {\r\n",
        "      'file_id': photo_id,\r\n",
        "      \"url\": server_url,\r\n",
        "      }\r\n",
        "  x = requests.post(api_url, data = post_data, headers={'header': 'Content-Type: application/json'})\r\n",
        "  return x.json()['result']['file_path']"
      ],
      "execution_count": 24,
      "outputs": []
    },
    {
      "cell_type": "code",
      "metadata": {
        "id": "RL_8pYcmoc3y"
      },
      "source": [
        "def get_photo(photo_id, server_url):\r\n",
        "  photo_path = get_photo_path(photo_id, server_url)\r\n",
        "  photo_url = f'https://api.telegram.org/file/bot{TOKEN}/{photo_path}'\r\n",
        "  return  Image.open(requests.get(photo_url, stream=True).raw)"
      ],
      "execution_count": 51,
      "outputs": []
    },
    {
      "cell_type": "code",
      "metadata": {
        "id": "O8y69_lwjGf8"
      },
      "source": [
        "def process_photo(photo):\r\n",
        "  plt.subplots()\r\n",
        "  plt.imshow(photo)\r\n",
        "  return 'result'"
      ],
      "execution_count": 26,
      "outputs": []
    },
    {
      "cell_type": "markdown",
      "metadata": {
        "id": "srG0bI7CJEbB"
      },
      "source": [
        "Препроцессинг"
      ]
    },
    {
      "cell_type": "code",
      "metadata": {
        "colab": {
          "base_uri": "https://localhost:8080/"
        },
        "id": "PMGAsyi8I1vK",
        "outputId": "e467f392-3416-4c85-abb1-66055bc2ce21"
      },
      "source": [
        "!git clone -l -s git://github.com/ZackPashkin/ocr_pytorch.git\n",
        "!ls"
      ],
      "execution_count": 10,
      "outputs": [
        {
          "output_type": "stream",
          "text": [
            "Cloning into 'ocr_pytorch'...\n",
            "warning: --local is ignored\n",
            "remote: Enumerating objects: 252, done.\u001b[K\n",
            "remote: Counting objects: 100% (252/252), done.\u001b[K\n",
            "remote: Compressing objects: 100% (181/181), done.\u001b[K\n",
            "remote: Total 252 (delta 136), reused 160 (delta 55), pack-reused 0\u001b[K\n",
            "Receiving objects: 100% (252/252), 174.32 KiB | 10.89 MiB/s, done.\n",
            "Resolving deltas: 100% (136/136), done.\n",
            "ocr_pytorch  sample_data\n"
          ],
          "name": "stdout"
        }
      ]
    },
    {
      "cell_type": "code",
      "metadata": {
        "colab": {
          "base_uri": "https://localhost:8080/"
        },
        "id": "Px0BIfIWILmp",
        "outputId": "cd8fd535-c8fa-45a3-f394-4ab9bfc4e30d"
      },
      "source": [
        "!wget https://storage.googleapis.com/comptech2021-ocr/synth_dataset.zip\n",
        "!unzip -qq /content/synth_dataset.zip -d /content/"
      ],
      "execution_count": 11,
      "outputs": [
        {
          "output_type": "stream",
          "text": [
            "--2021-02-04 17:57:48--  https://storage.googleapis.com/comptech2021-ocr/synth_dataset.zip\n",
            "Resolving storage.googleapis.com (storage.googleapis.com)... 142.250.31.128, 172.217.2.112, 172.217.15.112, ...\n",
            "Connecting to storage.googleapis.com (storage.googleapis.com)|142.250.31.128|:443... connected.\n",
            "HTTP request sent, awaiting response... 200 OK\n",
            "Length: 2284647670 (2.1G) [application/zip]\n",
            "Saving to: ‘synth_dataset.zip’\n",
            "\n",
            "synth_dataset.zip   100%[===================>]   2.13G  30.7MB/s    in 26s     \n",
            "\n",
            "2021-02-04 17:58:14 (84.3 MB/s) - ‘synth_dataset.zip’ saved [2284647670/2284647670]\n",
            "\n"
          ],
          "name": "stdout"
        }
      ]
    },
    {
      "cell_type": "code",
      "metadata": {
        "colab": {
          "base_uri": "https://localhost:8080/",
          "height": 701
        },
        "id": "DWHsSotLNUha",
        "outputId": "a543025d-8b54-4166-fdbd-ce2ad19138a5"
      },
      "source": [
        "!pip install -U albumentations"
      ],
      "execution_count": 14,
      "outputs": [
        {
          "output_type": "stream",
          "text": [
            "Collecting albumentations\n",
            "\u001b[?25l  Downloading https://files.pythonhosted.org/packages/03/58/63fb1d742dc42d9ba2800ea741de1f2bc6bb05548d8724aa84794042eaf2/albumentations-0.5.2-py3-none-any.whl (72kB)\n",
            "\r\u001b[K     |████▌                           | 10kB 16.5MB/s eta 0:00:01\r\u001b[K     |█████████                       | 20kB 19.8MB/s eta 0:00:01\r\u001b[K     |█████████████▋                  | 30kB 20.4MB/s eta 0:00:01\r\u001b[K     |██████████████████▏             | 40kB 17.8MB/s eta 0:00:01\r\u001b[K     |██████████████████████▊         | 51kB 15.2MB/s eta 0:00:01\r\u001b[K     |███████████████████████████▏    | 61kB 13.6MB/s eta 0:00:01\r\u001b[K     |███████████████████████████████▊| 71kB 13.6MB/s eta 0:00:01\r\u001b[K     |████████████████████████████████| 81kB 7.5MB/s \n",
            "\u001b[?25hRequirement already satisfied, skipping upgrade: PyYAML in /usr/local/lib/python3.6/dist-packages (from albumentations) (3.13)\n",
            "Requirement already satisfied, skipping upgrade: numpy>=1.11.1 in /usr/local/lib/python3.6/dist-packages (from albumentations) (1.19.5)\n",
            "Collecting opencv-python-headless>=4.1.1\n",
            "\u001b[?25l  Downloading https://files.pythonhosted.org/packages/96/fc/4da675cc522a749ebbcf85c5a63fba844b2d44c87e6f24e3fdb147df3270/opencv_python_headless-4.5.1.48-cp36-cp36m-manylinux2014_x86_64.whl (37.6MB)\n",
            "\u001b[K     |████████████████████████████████| 37.6MB 83kB/s \n",
            "\u001b[?25hCollecting imgaug>=0.4.0\n",
            "\u001b[?25l  Downloading https://files.pythonhosted.org/packages/66/b1/af3142c4a85cba6da9f4ebb5ff4e21e2616309552caca5e8acefe9840622/imgaug-0.4.0-py2.py3-none-any.whl (948kB)\n",
            "\u001b[K     |████████████████████████████████| 952kB 57.8MB/s \n",
            "\u001b[?25hRequirement already satisfied, skipping upgrade: scipy in /usr/local/lib/python3.6/dist-packages (from albumentations) (1.4.1)\n",
            "Requirement already satisfied, skipping upgrade: scikit-image>=0.16.1 in /usr/local/lib/python3.6/dist-packages (from albumentations) (0.16.2)\n",
            "Requirement already satisfied, skipping upgrade: imageio in /usr/local/lib/python3.6/dist-packages (from imgaug>=0.4.0->albumentations) (2.4.1)\n",
            "Requirement already satisfied, skipping upgrade: Pillow in /usr/local/lib/python3.6/dist-packages (from imgaug>=0.4.0->albumentations) (7.0.0)\n",
            "Requirement already satisfied, skipping upgrade: six in /usr/local/lib/python3.6/dist-packages (from imgaug>=0.4.0->albumentations) (1.15.0)\n",
            "Requirement already satisfied, skipping upgrade: opencv-python in /usr/local/lib/python3.6/dist-packages (from imgaug>=0.4.0->albumentations) (4.1.2.30)\n",
            "Requirement already satisfied, skipping upgrade: Shapely in /usr/local/lib/python3.6/dist-packages (from imgaug>=0.4.0->albumentations) (1.7.1)\n",
            "Requirement already satisfied, skipping upgrade: matplotlib in /usr/local/lib/python3.6/dist-packages (from imgaug>=0.4.0->albumentations) (3.2.2)\n",
            "Requirement already satisfied, skipping upgrade: PyWavelets>=0.4.0 in /usr/local/lib/python3.6/dist-packages (from scikit-image>=0.16.1->albumentations) (1.1.1)\n",
            "Requirement already satisfied, skipping upgrade: networkx>=2.0 in /usr/local/lib/python3.6/dist-packages (from scikit-image>=0.16.1->albumentations) (2.5)\n",
            "Requirement already satisfied, skipping upgrade: python-dateutil>=2.1 in /usr/local/lib/python3.6/dist-packages (from matplotlib->imgaug>=0.4.0->albumentations) (2.8.1)\n",
            "Requirement already satisfied, skipping upgrade: pyparsing!=2.0.4,!=2.1.2,!=2.1.6,>=2.0.1 in /usr/local/lib/python3.6/dist-packages (from matplotlib->imgaug>=0.4.0->albumentations) (2.4.7)\n",
            "Requirement already satisfied, skipping upgrade: cycler>=0.10 in /usr/local/lib/python3.6/dist-packages (from matplotlib->imgaug>=0.4.0->albumentations) (0.10.0)\n",
            "Requirement already satisfied, skipping upgrade: kiwisolver>=1.0.1 in /usr/local/lib/python3.6/dist-packages (from matplotlib->imgaug>=0.4.0->albumentations) (1.3.1)\n",
            "Requirement already satisfied, skipping upgrade: decorator>=4.3.0 in /usr/local/lib/python3.6/dist-packages (from networkx>=2.0->scikit-image>=0.16.1->albumentations) (4.4.2)\n",
            "Installing collected packages: opencv-python-headless, imgaug, albumentations\n",
            "  Found existing installation: imgaug 0.2.9\n",
            "    Uninstalling imgaug-0.2.9:\n",
            "      Successfully uninstalled imgaug-0.2.9\n",
            "  Found existing installation: albumentations 0.1.12\n",
            "    Uninstalling albumentations-0.1.12:\n",
            "      Successfully uninstalled albumentations-0.1.12\n",
            "Successfully installed albumentations-0.5.2 imgaug-0.4.0 opencv-python-headless-4.5.1.48\n"
          ],
          "name": "stdout"
        },
        {
          "output_type": "display_data",
          "data": {
            "application/vnd.colab-display-data+json": {
              "pip_warning": {
                "packages": [
                  "albumentations",
                  "cv2",
                  "imgaug"
                ]
              }
            }
          },
          "metadata": {
            "tags": []
          }
        }
      ]
    },
    {
      "cell_type": "code",
      "metadata": {
        "colab": {
          "base_uri": "https://localhost:8080/"
        },
        "id": "37zNweluJCGH",
        "outputId": "510064dc-4e34-41ac-f581-4723a710e731"
      },
      "source": [
        "%%time\n",
        "import sys\n",
        "import glob\n",
        "import os\n",
        "import pandas as pd\n",
        "sys.path.append(\"/content/ocr_pytorch/src\")\n",
        "from PIL import Image, ImageOps\n",
        "import torch\n",
        "import cv2\n",
        "import numpy as np\n",
        "import matplotlib.pyplot as plt \n",
        "import numpy as np\n",
        "from albumentations import Compose, Normalize, MedianBlur, GaussianBlur, \\\n",
        "    MotionBlur, GaussNoise, MultiplicativeNoise, Cutout, \\\n",
        "    CoarseDropout, GridDistortion, ElasticTransform, \\\n",
        "    RandomBrightness, RandomContrast, RandomBrightnessContrast, \\\n",
        "    ShiftScaleRotate, IAAPiecewiseAffine\n",
        "\n",
        "synth_kovshov = pd.read_csv(\"synth_dataset/kovshov_synth/crops_1.csv\" ,sep='|', encoding = 'cp1251')\n",
        "\n",
        "synth_labels_dict = {}\n",
        "images_with_value = {}\n",
        "for index, row in synth_kovshov.iterrows():\n",
        "    split_row = row['0.png;(1839-1843), реформа'].split(\";\")\n",
        "    img_path = \"synth_dataset/kovshov_synth/crops_1/\" + split_row[0]\n",
        "    images_with_value.update({img_path:split_row[1]})\n",
        "\n",
        "for index,image_name in enumerate(glob.glob(\"synth_dataset/kovshov_synth/crops_1/*.png\")):\n",
        "  for key in images_with_value:\n",
        "    if (image_name == key):\n",
        "      synth_labels_dict.update({key:images_with_value[key]})\n",
        "\n",
        "synth_werner_list = []\n",
        "synth_werner = open('synth_dataset/werner_distorted/annotation.txt','r')\n",
        "try:\n",
        "   synth_werner_list = synth_werner.read().splitlines()\n",
        "finally:\n",
        "   synth_werner.close()\n",
        "\n",
        "images_with_value = {}\n",
        "for index in range(len(synth_werner_list)):\n",
        "  img_path = \"synth_dataset/werner_distorted/content/generated/\" + synth_werner_list[index].rpartition(',')[2] + \".png\"\n",
        "  label = synth_werner_list[index].rpartition(',')[0]\n",
        "  images_with_value.update({img_path:label})\n",
        "\n",
        "for index,image_name in enumerate(glob.glob(\"synth_dataset/werner_distorted/content/generated/*.png\")):\n",
        "  for key in images_with_value:\n",
        "    if (image_name == key):\n",
        "      synth_labels_dict.update({key:images_with_value[key]})\n",
        "\n",
        "print(len(synth_labels_dict))"
      ],
      "execution_count": 3,
      "outputs": [
        {
          "output_type": "stream",
          "text": [
            "32291\n",
            "CPU times: user 1min 3s, sys: 41.6 ms, total: 1min 3s\n",
            "Wall time: 1min 3s\n"
          ],
          "name": "stdout"
        }
      ]
    },
    {
      "cell_type": "code",
      "metadata": {
        "colab": {
          "base_uri": "https://localhost:8080/"
        },
        "id": "sqix2-0gJJoi",
        "outputId": "4cb8969b-24c5-483a-ab47-69d94d8ed36a"
      },
      "source": [
        "%%time\n",
        "\n",
        "synth_werner_list = []\n",
        "synth_werner = open('synth_dataset/werner_synthetic/annotation.txt','r')\n",
        "try:\n",
        "   synth_werner_list = synth_werner.read().splitlines()\n",
        "finally:\n",
        "   synth_werner.close()\n",
        "\n",
        "for index in range(len(synth_werner_list)):\n",
        "  img_path = \"synth_dataset/werner_synthetic/content/result/\" + synth_werner_list[index].partition(',')[0]\n",
        "  label = synth_werner_list[index].partition(',')[2]\n",
        "  synth_labels_dict.update({img_path:label})\n",
        "\n",
        "print(len(synth_labels_dict))"
      ],
      "execution_count": 4,
      "outputs": [
        {
          "output_type": "stream",
          "text": [
            "272207\n",
            "CPU times: user 238 ms, sys: 44 ms, total: 282 ms\n",
            "Wall time: 286 ms\n"
          ],
          "name": "stdout"
        }
      ]
    },
    {
      "cell_type": "code",
      "metadata": {
        "colab": {
          "base_uri": "https://localhost:8080/"
        },
        "id": "GjR0_WyCJMHi",
        "outputId": "d418aafd-6acb-4f17-a46c-058830a21c44"
      },
      "source": [
        "from sklearn import preprocessing\n",
        "labels_dict = synth_labels_dict\n",
        "IMAGES = list(labels_dict.keys())\n",
        "# to look like '6bnnm'\n",
        "LABELS_NAMES = list(labels_dict.values())\n",
        "# to look like ['g', 'p', 'x', 'n', 'g']\n",
        "LABELS_NAMES = [[_ for _ in x] for x in LABELS_NAMES]\n",
        "print(LABELS_NAMES)\n",
        "LABELS_NAMES_FLAT = [_ for sublist in LABELS_NAMES for _ in sublist]\n",
        "print(LABELS_NAMES_FLAT)\n",
        "labels_encoded = preprocessing.LabelEncoder()\n",
        "labels_encoded.fit(LABELS_NAMES_FLAT)\n",
        "print(labels_encoded.classes_)\n",
        "print(len(labels_encoded.classes_))\n",
        "# keep 0 for unknown\n",
        "LABELS_ENCODED = np.array([labels_encoded.transform(x) for x in LABELS_NAMES]) +1\n",
        "print(LABELS_ENCODED)"
      ],
      "execution_count": 7,
      "outputs": [
        {
          "output_type": "stream",
          "text": [
            "IOPub data rate exceeded.\n",
            "The notebook server will temporarily stop sending output\n",
            "to the client in order to avoid crashing it.\n",
            "To change this limit, set the config variable\n",
            "`--NotebookApp.iopub_data_rate_limit`.\n",
            "\n",
            "Current values:\n",
            "NotebookApp.iopub_data_rate_limit=1000000.0 (bytes/sec)\n",
            "NotebookApp.rate_limit_window=3.0 (secs)\n",
            "\n"
          ],
          "name": "stderr"
        },
        {
          "output_type": "stream",
          "text": [
            "[' ' '!' '\"' '(' ')' ',' '-' '.' '0' '1' '2' '3' '4' '5' '6' '7' '8' '9'\n",
            " ':' ';' '?' 'I' ']' '«' '»' '́' 'А' 'Б' 'В' 'Г' 'Д' 'Е' 'Ж' 'З' 'И' 'К'\n",
            " 'Л' 'М' 'Н' 'О' 'П' 'Р' 'С' 'Т' 'У' 'Ф' 'Х' 'Ц' 'Ч' 'Ш' 'Э' 'Ю' 'Я' 'а'\n",
            " 'б' 'в' 'г' 'д' 'е' 'ж' 'з' 'и' 'й' 'к' 'л' 'м' 'н' 'о' 'п' 'р' 'с' 'т'\n",
            " 'у' 'ф' 'х' 'ц' 'ч' 'ш' 'щ' 'ъ' 'ы' 'ь' 'э' 'ю' 'я' 'ё' '–' '—' '“' '„']\n",
            "90\n"
          ],
          "name": "stdout"
        },
        {
          "output_type": "stream",
          "text": [
            "/usr/local/lib/python3.6/dist-packages/ipykernel_launcher.py:16: VisibleDeprecationWarning: Creating an ndarray from ragged nested sequences (which is a list-or-tuple of lists-or-tuples-or ndarrays with different lengths or shapes) is deprecated. If you meant to do this, you must specify 'dtype=object' when creating the ndarray\n",
            "  app.launch_new_instance()\n"
          ],
          "name": "stderr"
        },
        {
          "output_type": "stream",
          "text": [
            "[array([31, 68, 55, 70, 81, 63,  1, 58, 59, 67, 82,  8,  1, 40, 67])\n",
            " array([77, 59, 70, 67, 81, 59,  1, 55, 70, 68, 56, 62,  6,  1, 62])\n",
            " array([55, 68, 65, 82, 78, 68, 63,  1, 56, 59, 71, 72, 62, 55, 84, 65, 82,\n",
            "        6,  1, 71])\n",
            " ... array([58, 59, 65, 62, 66, 68, 71, 72, 82])\n",
            " array([58, 59, 65, 62, 66, 68, 71, 72, 82])\n",
            " array([58, 59, 65, 62, 66, 68, 71, 72, 82])]\n"
          ],
          "name": "stdout"
        }
      ]
    },
    {
      "cell_type": "code",
      "metadata": {
        "id": "i14zM7p4JP52"
      },
      "source": [
        "\n",
        "\n",
        "%matplotlib inline\n",
        "\n",
        "\n",
        "def resize_with_padding(img, expected_size):\n",
        "    img.thumbnail((expected_size[0], expected_size[1]))\n",
        "    # print(img.size)\n",
        "    delta_width = expected_size[0] - img.size[0]\n",
        "    delta_height = expected_size[1] - img.size[1]\n",
        "    pad_width = delta_width // 2\n",
        "    pad_height = delta_height // 2\n",
        "    padding = (pad_width, pad_height, delta_width - pad_width, delta_height - pad_height)\n",
        "    return ImageOps.expand(img, padding)"
      ],
      "execution_count": 8,
      "outputs": []
    },
    {
      "cell_type": "code",
      "metadata": {
        "id": "rhUE4qOaJTED"
      },
      "source": [
        "def transform_timeseries_string(batch):\n",
        "    new_batch = []\n",
        "    for string in batch:\n",
        "        new_string = []\n",
        "        last_symbol = '*'\n",
        "        for symbol in string:\n",
        "            if symbol == '*':\n",
        "                pred_symbol = ''\n",
        "            elif symbol == last_symbol:\n",
        "                pass\n",
        "            else:\n",
        "                new_string.append(symbol)\n",
        "                last_symbol = symbol\n",
        "        new_batch.append(new_string)\n",
        "    return new_batch"
      ],
      "execution_count": 9,
      "outputs": []
    },
    {
      "cell_type": "markdown",
      "metadata": {
        "id": "sl9yE40mJWMI"
      },
      "source": [
        "Объявление модели"
      ]
    },
    {
      "cell_type": "code",
      "metadata": {
        "id": "Vm1EWJgJJ0Qm"
      },
      "source": [
        "import torch\n",
        "import torch.nn as nn\n",
        "from torch.nn import functional as F\n",
        "from torchvision import models\n",
        "\n",
        "class ResNetOCR(nn.Module):\n",
        "  def __init__(self, n_classes, hidden_rnn):\n",
        "    super(ResNetOCR,self).__init__()\n",
        "    model = nn.Sequential(*list(models.resnet18(pretrained=False).children())[:-4])\n",
        "    self.fc1 = nn.Linear(1024, hidden_rnn)\n",
        "    self.cnn = model\n",
        "    self.rnn = nn.GRU(hidden_rnn, 32 , bidirectional=True,\n",
        "                          num_layers=2,\n",
        "                          batch_first=True)\n",
        "    self.output = nn.Linear(64,n_classes+1)\n",
        "  \n",
        "  def forward(self, images, labels=None, len_labels = None):\n",
        "    bs, c, h, w = images.size()\n",
        "    x = self.cnn(images)\n",
        "    #print(x.size())\n",
        "    x = x.permute(0,3,1,2)\n",
        "    #print(x.size())\n",
        "    x = x.view(bs, x.size(1),-1)\n",
        "    #print(x.size()[2])\n",
        "    x = self.fc1(x)\n",
        "    x, _ = self.rnn(x)\n",
        "    x = self.output(x)\n",
        "    #print(x.size())\n",
        "    # permute again \n",
        "    x = x.permute(1,0,2)\n",
        "    #print(x)\n",
        "    if labels is not None:\n",
        "      log_softmax_values =  F.log_softmax(x,2)   \n",
        "      input_lenghts = torch.full(size=(bs,),\n",
        "                                 fill_value=log_softmax_values.size(0), \n",
        "                                 dtype = torch.int32\n",
        "                                 )\n",
        "      #print(input_lenghts)\n",
        "         \n",
        "      loss = nn.CTCLoss(blank=0,zero_infinity = True)(\n",
        "          log_softmax_values,\n",
        "          labels,\n",
        "          input_lenghts,\n",
        "          len_labels\n",
        "      )  \n",
        "      \n",
        "      return x, loss\n",
        "    return x"
      ],
      "execution_count": 10,
      "outputs": []
    },
    {
      "cell_type": "code",
      "metadata": {
        "id": "3dFf__kmPOZl"
      },
      "source": [
        "IMAGE_WIDTH = 512\n",
        "IMAGE_HEIGHT = 64\n",
        "DEVICE = 'cuda'\n"
      ],
      "execution_count": 12,
      "outputs": []
    },
    {
      "cell_type": "code",
      "metadata": {
        "colab": {
          "base_uri": "https://localhost:8080/"
        },
        "id": "VH-wXh4TJe5O",
        "outputId": "908d79d2-82cc-4fe3-ba25-11cc28f5a2ce"
      },
      "source": [
        "model_train = ResNetOCR(n_classes=len(labels_encoded.classes_),hidden_rnn=64)\n",
        "model_train.load_state_dict(torch.load(\"rn18.pt\"))\n",
        "model_train.to(DEVICE)\n",
        "model_train.eval() # переключаем нейросеть в режим обучения"
      ],
      "execution_count": 13,
      "outputs": [
        {
          "output_type": "execute_result",
          "data": {
            "text/plain": [
              "ResNetOCR(\n",
              "  (fc1): Linear(in_features=1024, out_features=64, bias=True)\n",
              "  (cnn): Sequential(\n",
              "    (0): Conv2d(3, 64, kernel_size=(7, 7), stride=(2, 2), padding=(3, 3), bias=False)\n",
              "    (1): BatchNorm2d(64, eps=1e-05, momentum=0.1, affine=True, track_running_stats=True)\n",
              "    (2): ReLU(inplace=True)\n",
              "    (3): MaxPool2d(kernel_size=3, stride=2, padding=1, dilation=1, ceil_mode=False)\n",
              "    (4): Sequential(\n",
              "      (0): BasicBlock(\n",
              "        (conv1): Conv2d(64, 64, kernel_size=(3, 3), stride=(1, 1), padding=(1, 1), bias=False)\n",
              "        (bn1): BatchNorm2d(64, eps=1e-05, momentum=0.1, affine=True, track_running_stats=True)\n",
              "        (relu): ReLU(inplace=True)\n",
              "        (conv2): Conv2d(64, 64, kernel_size=(3, 3), stride=(1, 1), padding=(1, 1), bias=False)\n",
              "        (bn2): BatchNorm2d(64, eps=1e-05, momentum=0.1, affine=True, track_running_stats=True)\n",
              "      )\n",
              "      (1): BasicBlock(\n",
              "        (conv1): Conv2d(64, 64, kernel_size=(3, 3), stride=(1, 1), padding=(1, 1), bias=False)\n",
              "        (bn1): BatchNorm2d(64, eps=1e-05, momentum=0.1, affine=True, track_running_stats=True)\n",
              "        (relu): ReLU(inplace=True)\n",
              "        (conv2): Conv2d(64, 64, kernel_size=(3, 3), stride=(1, 1), padding=(1, 1), bias=False)\n",
              "        (bn2): BatchNorm2d(64, eps=1e-05, momentum=0.1, affine=True, track_running_stats=True)\n",
              "      )\n",
              "    )\n",
              "    (5): Sequential(\n",
              "      (0): BasicBlock(\n",
              "        (conv1): Conv2d(64, 128, kernel_size=(3, 3), stride=(2, 2), padding=(1, 1), bias=False)\n",
              "        (bn1): BatchNorm2d(128, eps=1e-05, momentum=0.1, affine=True, track_running_stats=True)\n",
              "        (relu): ReLU(inplace=True)\n",
              "        (conv2): Conv2d(128, 128, kernel_size=(3, 3), stride=(1, 1), padding=(1, 1), bias=False)\n",
              "        (bn2): BatchNorm2d(128, eps=1e-05, momentum=0.1, affine=True, track_running_stats=True)\n",
              "        (downsample): Sequential(\n",
              "          (0): Conv2d(64, 128, kernel_size=(1, 1), stride=(2, 2), bias=False)\n",
              "          (1): BatchNorm2d(128, eps=1e-05, momentum=0.1, affine=True, track_running_stats=True)\n",
              "        )\n",
              "      )\n",
              "      (1): BasicBlock(\n",
              "        (conv1): Conv2d(128, 128, kernel_size=(3, 3), stride=(1, 1), padding=(1, 1), bias=False)\n",
              "        (bn1): BatchNorm2d(128, eps=1e-05, momentum=0.1, affine=True, track_running_stats=True)\n",
              "        (relu): ReLU(inplace=True)\n",
              "        (conv2): Conv2d(128, 128, kernel_size=(3, 3), stride=(1, 1), padding=(1, 1), bias=False)\n",
              "        (bn2): BatchNorm2d(128, eps=1e-05, momentum=0.1, affine=True, track_running_stats=True)\n",
              "      )\n",
              "    )\n",
              "  )\n",
              "  (rnn): GRU(64, 32, num_layers=2, batch_first=True, bidirectional=True)\n",
              "  (output): Linear(in_features=64, out_features=91, bias=True)\n",
              ")"
            ]
          },
          "metadata": {
            "tags": []
          },
          "execution_count": 13
        }
      ]
    },
    {
      "cell_type": "markdown",
      "metadata": {
        "id": "TLWZUijHIYEy"
      },
      "source": [
        "Модель"
      ]
    },
    {
      "cell_type": "code",
      "metadata": {
        "id": "JUb4JHlKPN8T"
      },
      "source": [
        ""
      ],
      "execution_count": null,
      "outputs": []
    },
    {
      "cell_type": "code",
      "metadata": {
        "id": "1DapfLz7IExn"
      },
      "source": [
        ""
      ],
      "execution_count": null,
      "outputs": []
    },
    {
      "cell_type": "code",
      "metadata": {
        "id": "yrm6dwYdIGDS"
      },
      "source": [
        "from decode_predictions import decode_preds\n",
        "\n"
      ],
      "execution_count": 14,
      "outputs": []
    },
    {
      "cell_type": "code",
      "metadata": {
        "id": "uUuiXORxIGM9"
      },
      "source": [
        "def pred(images):\n",
        "  augmentations = Compose([Normalize(always_apply=True),])\n",
        "\n",
        "  list_tensors = []\n",
        "  for index, image in enumerate(images):\n",
        "    image = image.convert('RGB')\n",
        "    #image = Image.fromarray(image)\n",
        "\n",
        "    image = resize_with_padding(image, (IMAGE_WIDTH, IMAGE_HEIGHT))\n",
        "    image = image.resize((IMAGE_WIDTH, IMAGE_HEIGHT), resample=Image.BILINEAR)   \n",
        "    #display(image)\n",
        "    image = np.array(image)\n",
        "    augmented_image = augmentations(image=image)\n",
        "    image = augmented_image[\"image\"]\n",
        "    image = np.transpose(image,(2,0,1)).astype(np.float32)\n",
        "    image = torch.tensor(image, dtype=torch.float)\n",
        "    list_tensors.append(image)\n",
        "    #if index == 0: break\n",
        "    #image = image[None, :, :, :]\n",
        "\n",
        "  res = torch.stack(list_tensors)\n",
        "\n",
        "  batch_prediction = model_train(res.to(DEVICE))\n",
        "  cur_preds = decode_preds(batch_prediction, labels_encoded)\n",
        "  pred_label_list = []\n",
        "  valid_final_preds = transform_timeseries_string(cur_preds)\n",
        "  for i in range(len(valid_final_preds)):\n",
        "    pred_label = ''.join(map(str, valid_final_preds[i]))\n",
        "    pred_label_list.append(pred_label)\n",
        "\n",
        "  return pred_label_list\n",
        "\n",
        "  "
      ],
      "execution_count": 50,
      "outputs": []
    },
    {
      "cell_type": "code",
      "metadata": {
        "id": "Yi6MWKnJIGWE"
      },
      "source": [
        ""
      ],
      "execution_count": null,
      "outputs": []
    },
    {
      "cell_type": "markdown",
      "metadata": {
        "id": "B_tHu3ibmgsz"
      },
      "source": [
        "# Запускаем сервер в гугл колабе, который отвечает за то, чтобы присвоить нашему выделенному серверу в гугл колабе определённый url."
      ]
    },
    {
      "cell_type": "code",
      "metadata": {
        "id": "S7GR8rsrExzs",
        "colab": {
          "base_uri": "https://localhost:8080/"
        },
        "outputId": "0b7b99d6-77ec-4717-91b9-82297e2f05d8"
      },
      "source": [
        "#in terminal\n",
        "!curl -sL https://deb.nodesource.com/setup_14.x -o nodesource_setup.sh\n",
        "!bash nodesource_setup.sh\n",
        "!apt install nodejs\n",
        "\n",
        "!npm install -g localtunnel\n",
        "! nohup lt --port {PORT} &\n",
        "time.sleep(1) \n",
        "# take url like https://wicked-skunk-16.loca.lt"
      ],
      "execution_count": 58,
      "outputs": [
        {
          "output_type": "stream",
          "text": [
            "\n",
            "## Installing the NodeSource Node.js 14.x repo...\n",
            "\n",
            "\n",
            "## Populating apt-get cache...\n",
            "\n",
            "+ apt-get update\n",
            "\r0% [Working]\r            \rHit:1 https://deb.nodesource.com/node_14.x bionic InRelease\n",
            "\r0% [Connecting to archive.ubuntu.com (91.189.88.152)] [Connecting to security.u\r                                                                               \rHit:2 https://cloud.r-project.org/bin/linux/ubuntu bionic-cran40/ InRelease\n",
            "\r0% [Connecting to archive.ubuntu.com (91.189.88.152)] [Connecting to security.u\r0% [1 InRelease gpgv 4,584 B] [Connecting to archive.ubuntu.com (91.189.88.152)\r                                                                               \rHit:3 http://security.ubuntu.com/ubuntu bionic-security InRelease\n",
            "\r0% [1 InRelease gpgv 4,584 B] [Waiting for headers] [Waiting for headers] [Wait\r                                                                               \rIgn:4 https://developer.download.nvidia.com/compute/cuda/repos/ubuntu1804/x86_64  InRelease\n",
            "\r0% [1 InRelease gpgv 4,584 B] [Waiting for headers] [Waiting for headers] [Wait\r                                                                               \rHit:5 http://archive.ubuntu.com/ubuntu bionic InRelease\n",
            "Hit:6 http://ppa.launchpad.net/c2d4u.team/c2d4u4.0+/ubuntu bionic InRelease\n",
            "Ign:7 https://developer.download.nvidia.com/compute/machine-learning/repos/ubuntu1804/x86_64  InRelease\n",
            "Hit:8 https://developer.download.nvidia.com/compute/cuda/repos/ubuntu1804/x86_64  Release\n",
            "Hit:9 http://archive.ubuntu.com/ubuntu bionic-updates InRelease\n",
            "Hit:10 https://developer.download.nvidia.com/compute/machine-learning/repos/ubuntu1804/x86_64  Release\n",
            "Hit:11 http://ppa.launchpad.net/cran/libgit2/ubuntu bionic InRelease\n",
            "Hit:12 http://archive.ubuntu.com/ubuntu bionic-backports InRelease\n",
            "Hit:13 http://ppa.launchpad.net/graphics-drivers/ppa/ubuntu bionic InRelease\n",
            "Reading package lists... Done\n",
            "\n",
            "## Confirming \"bionic\" is supported...\n",
            "\n",
            "+ curl -sLf -o /dev/null 'https://deb.nodesource.com/node_14.x/dists/bionic/Release'\n",
            "\n",
            "## Adding the NodeSource signing key to your keyring...\n",
            "\n",
            "+ curl -s https://deb.nodesource.com/gpgkey/nodesource.gpg.key | apt-key add -\n",
            "OK\n",
            "\n",
            "## Creating apt sources list file for the NodeSource Node.js 14.x repo...\n",
            "\n",
            "+ echo 'deb https://deb.nodesource.com/node_14.x bionic main' > /etc/apt/sources.list.d/nodesource.list\n",
            "+ echo 'deb-src https://deb.nodesource.com/node_14.x bionic main' >> /etc/apt/sources.list.d/nodesource.list\n",
            "\n",
            "## Running `apt-get update` for you...\n",
            "\n",
            "+ apt-get update\n",
            "Hit:1 https://deb.nodesource.com/node_14.x bionic InRelease\n",
            "Hit:2 http://security.ubuntu.com/ubuntu bionic-security InRelease\n",
            "Hit:3 https://cloud.r-project.org/bin/linux/ubuntu bionic-cran40/ InRelease\n",
            "Ign:4 https://developer.download.nvidia.com/compute/cuda/repos/ubuntu1804/x86_64  InRelease\n",
            "Hit:5 http://ppa.launchpad.net/c2d4u.team/c2d4u4.0+/ubuntu bionic InRelease\n",
            "Hit:6 http://archive.ubuntu.com/ubuntu bionic InRelease\n",
            "Ign:7 https://developer.download.nvidia.com/compute/machine-learning/repos/ubuntu1804/x86_64  InRelease\n",
            "Hit:8 https://developer.download.nvidia.com/compute/cuda/repos/ubuntu1804/x86_64  Release\n",
            "Hit:9 https://developer.download.nvidia.com/compute/machine-learning/repos/ubuntu1804/x86_64  Release\n",
            "Hit:10 http://archive.ubuntu.com/ubuntu bionic-updates InRelease\n",
            "Hit:11 http://ppa.launchpad.net/cran/libgit2/ubuntu bionic InRelease\n",
            "Hit:12 http://archive.ubuntu.com/ubuntu bionic-backports InRelease\n",
            "Hit:13 http://ppa.launchpad.net/graphics-drivers/ppa/ubuntu bionic InRelease\n",
            "Reading package lists... Done\n",
            "\n",
            "## Run `\u001b[1msudo apt-get install -y nodejs\u001b[m` to install Node.js 14.x and npm\n",
            "## You may also need development tools to build native addons:\n",
            "     sudo apt-get install gcc g++ make\n",
            "## To install the Yarn package manager, run:\n",
            "     curl -sL https://dl.yarnpkg.com/debian/pubkey.gpg | sudo apt-key add -\n",
            "     echo \"deb https://dl.yarnpkg.com/debian/ stable main\" | sudo tee /etc/apt/sources.list.d/yarn.list\n",
            "     sudo apt-get update && sudo apt-get install yarn\n",
            "\n",
            "\n",
            "Reading package lists... Done\n",
            "Building dependency tree       \n",
            "Reading state information... Done\n",
            "nodejs is already the newest version (14.15.4-1nodesource1).\n",
            "0 upgraded, 0 newly installed, 0 to remove and 21 not upgraded.\n",
            "\u001b[K\u001b[?25h/usr/bin/lt -> /usr/lib/node_modules/localtunnel/bin/lt.js\n",
            "+ localtunnel@2.0.1\n",
            "updated 1 package in 0.791s\n",
            "nohup: appending output to 'nohup.out'\n"
          ],
          "name": "stdout"
        }
      ]
    },
    {
      "cell_type": "code",
      "metadata": {
        "id": "NWfnCOE-wPtl"
      },
      "source": [
        "server_url = read_server_url() # вычитываем выданный нам url"
      ],
      "execution_count": 59,
      "outputs": []
    },
    {
      "cell_type": "code",
      "metadata": {
        "colab": {
          "base_uri": "https://localhost:8080/",
          "height": 37
        },
        "id": "2IYaR9OG4xWT",
        "outputId": "2a732a4d-bc40-4034-d3a8-28e1e6a07920"
      },
      "source": [
        "server_url"
      ],
      "execution_count": 60,
      "outputs": [
        {
          "output_type": "execute_result",
          "data": {
            "application/vnd.google.colaboratory.intrinsic+json": {
              "type": "string"
            },
            "text/plain": [
              "'https://cuddly-rattlesnake-92.loca.lt'"
            ]
          },
          "metadata": {
            "tags": []
          },
          "execution_count": 60
        }
      ]
    },
    {
      "cell_type": "code",
      "metadata": {
        "colab": {
          "base_uri": "https://localhost:8080/"
        },
        "id": "2LPAy-wcfOg_",
        "outputId": "f242d9b8-30df-4591-88c7-e93945726a0a"
      },
      "source": [
        "set_webhook(server_url) # создаём хук, чтобы телеграм отправлял нам уведомления о новых сообщениях"
      ],
      "execution_count": 61,
      "outputs": [
        {
          "output_type": "execute_result",
          "data": {
            "text/plain": [
              "True"
            ]
          },
          "metadata": {
            "tags": []
          },
          "execution_count": 61
        }
      ]
    },
    {
      "cell_type": "code",
      "metadata": {
        "id": "ZwULt0WzmA3H"
      },
      "source": [
        "# Выводим текст, если пользователь не отправил фото.\r\n",
        "\r\n",
        "TEXT_IMAGE_EMPTY = \"\"\"Этот бот предназначен для обработки изображения и распознавания текста. Отправьте, пожалуйста, фото, текст на котором вам необходимо распознать.\r\n",
        "\"\"\"\r\n",
        "TEXT_IMAGE_START = \"\"\"Привет, я умею распознавать рукописный текст. Отправь мне фото текста, который нужно распознать.\"\"\""
      ],
      "execution_count": 62,
      "outputs": []
    },
    {
      "cell_type": "code",
      "metadata": {
        "id": "SHi0Y2cCOV4S",
        "colab": {
          "base_uri": "https://localhost:8080/"
        },
        "outputId": "fb6e9c8a-2acf-4dc4-9f68-ee4e6d9868bd"
      },
      "source": [
        "#Запускаем фласк. \n",
        "\n",
        "app = Flask(__name__)\n",
        "\n",
        "@app.route(\"/\", methods=[\"GET\", \"POST\"])\n",
        "def receive_update():\n",
        "    if request.method == \"POST\":\n",
        "        print(request.json)\n",
        "        chat_id = request.json[\"message\"][\"chat\"][\"id\"]\n",
        "        photos = request.json[\"message\"].get(\"photo\")\n",
        "        print(\"entities\" in request.json[\"message\"])\n",
        "        downloaded_photo_list = []\n",
        "        if photos:\n",
        "            photo = photos[-1]\n",
        "            \n",
        "            downloaded_photo = get_photo(photo['file_id'], server_url)\n",
        "            downloaded_photo_list.append(downloaded_photo)\n",
        "            result = pred(downloaded_photo_list)\n",
        "            send_message(chat_id, *result)\n",
        "            print(*result)\n",
        "            \n",
        "        elif \"entities\" in request.json[\"message\"]:\n",
        "          if request.json[\"message\"]['entities'][0]['type'] == 'bot_command':\n",
        "            if request.json[\"message\"][\"text\"] == \"/start\":\n",
        "              send_message(chat_id, TEXT_IMAGE_START)\n",
        "        else:\n",
        "          send_message(chat_id, TEXT_IMAGE_EMPTY)\n",
        "    return 'result'\n",
        "\n",
        "app.run(port=PORT)\n",
        "\n",
        "#attach image in telegram"
      ],
      "execution_count": null,
      "outputs": [
        {
          "output_type": "stream",
          "text": [
            " * Serving Flask app \"__main__\" (lazy loading)\n",
            " * Environment: production\n",
            "\u001b[31m   WARNING: This is a development server. Do not use it in a production deployment.\u001b[0m\n",
            "\u001b[2m   Use a production WSGI server instead.\u001b[0m\n",
            " * Debug mode: off\n"
          ],
          "name": "stdout"
        },
        {
          "output_type": "stream",
          "text": [
            " * Running on http://127.0.0.1:5000/ (Press CTRL+C to quit)\n"
          ],
          "name": "stderr"
        },
        {
          "output_type": "stream",
          "text": [
            "{'update_id': 294559937, 'message': {'message_id': 250, 'from': {'id': 209041395, 'is_bot': False, 'first_name': 'Александр', 'last_name': 'Тараканов', 'username': 'sunndoz', 'language_code': 'ru'}, 'chat': {'id': 209041395, 'first_name': 'Александр', 'last_name': 'Тараканов', 'username': 'sunndoz', 'type': 'private'}, 'date': 1612462406, 'photo': [{'file_id': 'AgACAgIAAxkBAAP6YBw5RkrnptWZlR6n19Q_vin4sVsAAoOxMRtbf-FIgun6OvjDgqhNzQ2eLgADAQADAgADbQADd2MBAAEeBA', 'file_unique_id': 'AQADTc0Nni4AA3djAQAB', 'file_size': 4404, 'width': 320, 'height': 48}, {'file_id': 'AgACAgIAAxkBAAP6YBw5RkrnptWZlR6n19Q_vin4sVsAAoOxMRtbf-FIgun6OvjDgqhNzQ2eLgADAQADAgADeAADdWMBAAEeBA', 'file_unique_id': 'AQADTc0Nni4AA3VjAQAB', 'file_size': 4914, 'width': 398, 'height': 60}]}}\n",
            "False\n"
          ],
          "name": "stdout"
        },
        {
          "output_type": "stream",
          "text": [
            "127.0.0.1 - - [04/Feb/2021 18:27:22] \"\u001b[37mPOST / HTTP/1.1\u001b[0m\" 200 -\n"
          ],
          "name": "stderr"
        },
        {
          "output_type": "stream",
          "text": [
            "{'update_id': 294559938, 'message': {'message_id': 251, 'from': {'id': 209041395, 'is_bot': False, 'first_name': 'Александр', 'last_name': 'Тараканов', 'username': 'sunndoz', 'language_code': 'ru'}, 'chat': {'id': 209041395, 'first_name': 'Александр', 'last_name': 'Тараканов', 'username': 'sunndoz', 'type': 'private'}, 'date': 1612462692, 'text': '/start', 'entities': [{'offset': 0, 'length': 6, 'type': 'bot_command'}]}}\n",
            "True\n"
          ],
          "name": "stdout"
        },
        {
          "output_type": "stream",
          "text": [
            "127.0.0.1 - - [04/Feb/2021 18:27:22] \"\u001b[37mPOST / HTTP/1.1\u001b[0m\" 200 -\n"
          ],
          "name": "stderr"
        },
        {
          "output_type": "stream",
          "text": [
            "{'update_id': 294559936, 'message': {'message_id': 249, 'from': {'id': 289630251, 'is_bot': False, 'first_name': 'Денис', 'username': 'Sovenq', 'language_code': 'ru'}, 'chat': {'id': 289630251, 'first_name': 'Денис', 'username': 'Sovenq', 'type': 'private'}, 'date': 1612462406, 'photo': [{'file_id': 'AgACAgIAAxkBAAP5YBw5RtPer95Ecst4v4aqenmq0goAAsKyMRuD5uFIAAHBuVmyAkqoDMfxly4AAwEAAwIAA20AA7GHBgABHgQ', 'file_unique_id': 'AQADDMfxly4AA7GHBgAB', 'file_size': 4388, 'width': 320, 'height': 48}, {'file_id': 'AgACAgIAAxkBAAP5YBw5RtPer95Ecst4v4aqenmq0goAAsKyMRuD5uFIAAHBuVmyAkqoDMfxly4AAwEAAwIAA3gAA6-HBgABHgQ', 'file_unique_id': 'AQADDMfxly4AA6-HBgAB', 'file_size': 5565, 'width': 398, 'height': 60}]}}\n",
            "False\n"
          ],
          "name": "stdout"
        },
        {
          "output_type": "stream",
          "text": [
            "127.0.0.1 - - [04/Feb/2021 18:27:23] \"\u001b[37mPOST / HTTP/1.1\u001b[0m\" 200 -\n"
          ],
          "name": "stderr"
        },
        {
          "output_type": "stream",
          "text": [
            "{'update_id': 294559939, 'message': {'message_id': 252, 'from': {'id': 289630251, 'is_bot': False, 'first_name': 'Денис', 'username': 'Sovenq', 'language_code': 'ru'}, 'chat': {'id': 289630251, 'first_name': 'Денис', 'username': 'Sovenq', 'type': 'private'}, 'date': 1612462709, 'text': '/start', 'entities': [{'offset': 0, 'length': 6, 'type': 'bot_command'}]}}\n",
            "True\n"
          ],
          "name": "stdout"
        },
        {
          "output_type": "stream",
          "text": [
            "127.0.0.1 - - [04/Feb/2021 18:27:24] \"\u001b[37mPOST / HTTP/1.1\u001b[0m\" 200 -\n"
          ],
          "name": "stderr"
        },
        {
          "output_type": "stream",
          "text": [
            "{'update_id': 294559940, 'message': {'message_id': 253, 'from': {'id': 289630251, 'is_bot': False, 'first_name': 'Денис', 'username': 'Sovenq', 'language_code': 'ru'}, 'chat': {'id': 289630251, 'first_name': 'Денис', 'username': 'Sovenq', 'type': 'private'}, 'date': 1612462743, 'photo': [{'file_id': 'AgACAgIAAxkBAAP9YBw6l3vfWiOQJ4PSGZeT-g7OUxsAAsayMRuD5uFILHV89sUN782CcRebLgADAQADAgADbQADnFsBAAEeBA', 'file_unique_id': 'AQADgnEXmy4AA5xbAQAB', 'file_size': 4689, 'width': 320, 'height': 48}, {'file_id': 'AgACAgIAAxkBAAP9YBw6l3vfWiOQJ4PSGZeT-g7OUxsAAsayMRuD5uFILHV89sUN782CcRebLgADAQADAgADeAADmlsBAAEeBA', 'file_unique_id': 'AQADgnEXmy4AA5pbAQAB', 'file_size': 5985, 'width': 398, 'height': 60}]}}\n",
            "False\n"
          ],
          "name": "stdout"
        },
        {
          "output_type": "stream",
          "text": [
            "127.0.0.1 - - [04/Feb/2021 18:27:25] \"\u001b[37mPOST / HTTP/1.1\u001b[0m\" 200 -\n"
          ],
          "name": "stderr"
        },
        {
          "output_type": "stream",
          "text": [
            "{'update_id': 294559941, 'message': {'message_id': 259, 'from': {'id': 209041395, 'is_bot': False, 'first_name': 'Александр', 'last_name': 'Тараканов', 'username': 'sunndoz', 'language_code': 'ru'}, 'chat': {'id': 209041395, 'first_name': 'Александр', 'last_name': 'Тараканов', 'username': 'sunndoz', 'type': 'private'}, 'date': 1612463279, 'photo': [{'file_id': 'AgACAgIAAxkBAAIBA2AcPK_Z4gSUnxZCuvPr6HyMFIUSAAKOsTEbW3_hSPrLnK-qiJVO_Kd0ly4AAwEAAwIAA20AA3meBgABHgQ', 'file_unique_id': 'AQAD_Kd0ly4AA3meBgAB', 'file_size': 4778, 'width': 320, 'height': 48}, {'file_id': 'AgACAgIAAxkBAAIBA2AcPK_Z4gSUnxZCuvPr6HyMFIUSAAKOsTEbW3_hSPrLnK-qiJVO_Kd0ly4AAwEAAwIAA3gAA3ieBgABHgQ', 'file_unique_id': 'AQAD_Kd0ly4AA3ieBgAB', 'file_size': 5350, 'width': 398, 'height': 60}]}}\n",
            "False\n"
          ],
          "name": "stdout"
        },
        {
          "output_type": "stream",
          "text": [
            "127.0.0.1 - - [04/Feb/2021 18:28:00] \"\u001b[37mPOST / HTTP/1.1\u001b[0m\" 200 -\n"
          ],
          "name": "stderr"
        },
        {
          "output_type": "stream",
          "text": [
            "{'update_id': 294559942, 'message': {'message_id': 261, 'from': {'id': 209041395, 'is_bot': False, 'first_name': 'Александр', 'last_name': 'Тараканов', 'username': 'sunndoz', 'language_code': 'ru'}, 'chat': {'id': 209041395, 'first_name': 'Александр', 'last_name': 'Тараканов', 'username': 'sunndoz', 'type': 'private'}, 'date': 1612463291, 'photo': [{'file_id': 'AgACAgIAAxkBAAIBBWAcPLt4bbmgYP16RrOggQYfFgtbAAKPsTEbW3_hSPtJTIuGpWigBl9Mni4AAwEAAwIAA20AA1xfAQABHgQ', 'file_unique_id': 'AQADBl9Mni4AA1xfAQAB', 'file_size': 4340, 'width': 320, 'height': 48}, {'file_id': 'AgACAgIAAxkBAAIBBWAcPLt4bbmgYP16RrOggQYfFgtbAAKPsTEbW3_hSPtJTIuGpWigBl9Mni4AAwEAAwIAA3gAA1tfAQABHgQ', 'file_unique_id': 'AQADBl9Mni4AA1tfAQAB', 'file_size': 4793, 'width': 398, 'height': 60}]}}\n",
            "False\n"
          ],
          "name": "stdout"
        },
        {
          "output_type": "stream",
          "text": [
            "127.0.0.1 - - [04/Feb/2021 18:28:12] \"\u001b[37mPOST / HTTP/1.1\u001b[0m\" 200 -\n"
          ],
          "name": "stderr"
        },
        {
          "output_type": "stream",
          "text": [
            "{'update_id': 294559943, 'message': {'message_id': 263, 'from': {'id': 209041395, 'is_bot': False, 'first_name': 'Александр', 'last_name': 'Тараканов', 'username': 'sunndoz', 'language_code': 'ru'}, 'chat': {'id': 209041395, 'first_name': 'Александр', 'last_name': 'Тараканов', 'username': 'sunndoz', 'type': 'private'}, 'date': 1612463300, 'photo': [{'file_id': 'AgACAgIAAxkBAAIBB2AcPMSHI2WKJMhFFtphxaWpbYWJAAKQsTEbW3_hSIPcTdWqM50_-B8imy4AAwEAAwIAA20AA9NFAgABHgQ', 'file_unique_id': 'AQAD-B8imy4AA9NFAgAB', 'file_size': 4511, 'width': 320, 'height': 48}, {'file_id': 'AgACAgIAAxkBAAIBB2AcPMSHI2WKJMhFFtphxaWpbYWJAAKQsTEbW3_hSIPcTdWqM50_-B8imy4AAwEAAwIAA3gAA9JFAgABHgQ', 'file_unique_id': 'AQAD-B8imy4AA9JFAgAB', 'file_size': 4962, 'width': 398, 'height': 60}]}}\n",
            "False\n"
          ],
          "name": "stdout"
        },
        {
          "output_type": "stream",
          "text": [
            "127.0.0.1 - - [04/Feb/2021 18:28:21] \"\u001b[37mPOST / HTTP/1.1\u001b[0m\" 200 -\n",
            "127.0.0.1 - - [04/Feb/2021 18:28:36] \"\u001b[37mPOST / HTTP/1.1\u001b[0m\" 200 -\n"
          ],
          "name": "stderr"
        },
        {
          "output_type": "stream",
          "text": [
            "{'update_id': 294559944, 'message': {'message_id': 265, 'from': {'id': 289630251, 'is_bot': False, 'first_name': 'Денис', 'username': 'Sovenq', 'language_code': 'ru'}, 'chat': {'id': 289630251, 'first_name': 'Денис', 'username': 'Sovenq', 'type': 'private'}, 'date': 1612463316, 'text': 'https://cdn.discordapp.com/attachments/804458397684465694/806950515258818600/100.png', 'entities': [{'offset': 0, 'length': 84, 'type': 'url'}]}}\n",
            "True\n",
            "{'update_id': 294559945, 'message': {'message_id': 266, 'from': {'id': 551358615, 'is_bot': False, 'first_name': 'V', 'last_name': 'D', 'username': 'destroy_life', 'language_code': 'ru'}, 'chat': {'id': 551358615, 'first_name': 'V', 'last_name': 'D', 'username': 'destroy_life', 'type': 'private'}, 'date': 1612463362, 'photo': [{'file_id': 'AgACAgIAAxkBAAIBCmAcPQL2tfYDMTYU56fOIpQp6gJTAALmsDEb9GXpSP4fJ9P_pjYhAVDzly4AAwEAAwIAA20AA8qDBgABHgQ', 'file_unique_id': 'AQADAVDzly4AA8qDBgAB', 'file_size': 20088, 'width': 240, 'height': 320}, {'file_id': 'AgACAgIAAxkBAAIBCmAcPQL2tfYDMTYU56fOIpQp6gJTAALmsDEb9GXpSP4fJ9P_pjYhAVDzly4AAwEAAwIAA3gAA8yDBgABHgQ', 'file_unique_id': 'AQADAVDzly4AA8yDBgAB', 'file_size': 108448, 'width': 600, 'height': 800}, {'file_id': 'AgACAgIAAxkBAAIBCmAcPQL2tfYDMTYU56fOIpQp6gJTAALmsDEb9GXpSP4fJ9P_pjYhAVDzly4AAwEAAwIAA3kAA8uDBgABHgQ', 'file_unique_id': 'AQADAVDzly4AA8uDBgAB', 'file_size': 153081, 'width': 960, 'height': 1280}]}}\n",
            "False\n"
          ],
          "name": "stdout"
        },
        {
          "output_type": "stream",
          "text": [
            "127.0.0.1 - - [04/Feb/2021 18:29:23] \"\u001b[37mPOST / HTTP/1.1\u001b[0m\" 200 -\n"
          ],
          "name": "stderr"
        },
        {
          "output_type": "stream",
          "text": [
            "{'update_id': 294559946, 'message': {'message_id': 267, 'from': {'id': 289630251, 'is_bot': False, 'first_name': 'Денис', 'username': 'Sovenq', 'language_code': 'ru'}, 'chat': {'id': 289630251, 'first_name': 'Денис', 'username': 'Sovenq', 'type': 'private'}, 'date': 1612463367, 'photo': [{'file_id': 'AgACAgIAAxkBAAIBC2AcPQfAs5OxUqzLJnlTNiiWe-psAALKsjEbg-bhSNkXtGrnnHxx2IdGli4AAwEAAwIAA20AA0MAAQcAAR4E', 'file_unique_id': 'AQAD2IdGli4AA0MAAQcAAQ', 'file_size': 4261, 'width': 320, 'height': 48}, {'file_id': 'AgACAgIAAxkBAAIBC2AcPQfAs5OxUqzLJnlTNiiWe-psAALKsjEbg-bhSNkXtGrnnHxx2IdGli4AAwEAAwIAA3gAA0IAAQcAAR4E', 'file_unique_id': 'AQAD2IdGli4AA0IAAQcAAQ', 'file_size': 5387, 'width': 398, 'height': 60}]}}\n",
            "False\n"
          ],
          "name": "stdout"
        },
        {
          "output_type": "stream",
          "text": [
            "127.0.0.1 - - [04/Feb/2021 18:29:28] \"\u001b[37mPOST / HTTP/1.1\u001b[0m\" 200 -\n"
          ],
          "name": "stderr"
        },
        {
          "output_type": "stream",
          "text": [
            "{'update_id': 294559947, 'message': {'message_id': 269, 'from': {'id': 289630251, 'is_bot': False, 'first_name': 'Денис', 'username': 'Sovenq', 'language_code': 'ru'}, 'chat': {'id': 289630251, 'first_name': 'Денис', 'username': 'Sovenq', 'type': 'private'}, 'date': 1612463377, 'photo': [{'file_id': 'AgACAgIAAxkBAAIBDWAcPRE-qC3j_VCMLZc_vkIj1SycAALGsjEbg-bhSCx1fPbFDe_NgnEXmy4AAwEAAwIAA20AA5xbAQABHgQ', 'file_unique_id': 'AQADgnEXmy4AA5xbAQAB', 'file_size': 4689, 'width': 320, 'height': 48}, {'file_id': 'AgACAgIAAxkBAAIBDWAcPRE-qC3j_VCMLZc_vkIj1SycAALGsjEbg-bhSCx1fPbFDe_NgnEXmy4AAwEAAwIAA3gAA5pbAQABHgQ', 'file_unique_id': 'AQADgnEXmy4AA5pbAQAB', 'file_size': 5985, 'width': 398, 'height': 60}]}}\n",
            "False\n"
          ],
          "name": "stdout"
        },
        {
          "output_type": "stream",
          "text": [
            "127.0.0.1 - - [04/Feb/2021 18:29:38] \"\u001b[37mPOST / HTTP/1.1\u001b[0m\" 200 -\n"
          ],
          "name": "stderr"
        },
        {
          "output_type": "stream",
          "text": [
            "{'update_id': 294559948, 'message': {'message_id': 271, 'from': {'id': 551358615, 'is_bot': False, 'first_name': 'V', 'last_name': 'D', 'username': 'destroy_life', 'language_code': 'ru'}, 'chat': {'id': 551358615, 'first_name': 'V', 'last_name': 'D', 'username': 'destroy_life', 'type': 'private'}, 'date': 1612463390, 'text': '/start', 'entities': [{'offset': 0, 'length': 6, 'type': 'bot_command'}]}}\n",
            "True\n"
          ],
          "name": "stdout"
        },
        {
          "output_type": "stream",
          "text": [
            "127.0.0.1 - - [04/Feb/2021 18:29:50] \"\u001b[37mPOST / HTTP/1.1\u001b[0m\" 200 -\n"
          ],
          "name": "stderr"
        },
        {
          "output_type": "stream",
          "text": [
            "{'update_id': 294559949, 'message': {'message_id': 273, 'from': {'id': 551358615, 'is_bot': False, 'first_name': 'V', 'last_name': 'D', 'username': 'destroy_life', 'language_code': 'ru'}, 'chat': {'id': 551358615, 'first_name': 'V', 'last_name': 'D', 'username': 'destroy_life', 'type': 'private'}, 'date': 1612463410, 'photo': [{'file_id': 'AgACAgIAAxkBAAIBEWAcPTK7GpBuaG0c6KLTn8-j4FtiAALosDEb9GXpSPJsokL9VOxkOJc9my4AAwEAAwIAA20AA0IXAgABHgQ', 'file_unique_id': 'AQADOJc9my4AA0IXAgAB', 'file_size': 18657, 'width': 240, 'height': 320}, {'file_id': 'AgACAgIAAxkBAAIBEWAcPTK7GpBuaG0c6KLTn8-j4FtiAALosDEb9GXpSPJsokL9VOxkOJc9my4AAwEAAwIAA3gAA0AXAgABHgQ', 'file_unique_id': 'AQADOJc9my4AA0AXAgAB', 'file_size': 90800, 'width': 600, 'height': 800}, {'file_id': 'AgACAgIAAxkBAAIBEWAcPTK7GpBuaG0c6KLTn8-j4FtiAALosDEb9GXpSPJsokL9VOxkOJc9my4AAwEAAwIAA3kAAz8XAgABHgQ', 'file_unique_id': 'AQADOJc9my4AAz8XAgAB', 'file_size': 118716, 'width': 960, 'height': 1280}]}}\n",
            "False\n"
          ],
          "name": "stdout"
        },
        {
          "output_type": "stream",
          "text": [
            "127.0.0.1 - - [04/Feb/2021 18:30:11] \"\u001b[37mPOST / HTTP/1.1\u001b[0m\" 200 -\n"
          ],
          "name": "stderr"
        },
        {
          "output_type": "stream",
          "text": [
            "{'update_id': 294559950, 'message': {'message_id': 274, 'from': {'id': 209041395, 'is_bot': False, 'first_name': 'Александр', 'last_name': 'Тараканов', 'username': 'sunndoz', 'language_code': 'ru'}, 'chat': {'id': 209041395, 'first_name': 'Александр', 'last_name': 'Тараканов', 'username': 'sunndoz', 'type': 'private'}, 'date': 1612463435, 'text': '/start', 'entities': [{'offset': 0, 'length': 6, 'type': 'bot_command'}]}}\n",
            "True\n"
          ],
          "name": "stdout"
        },
        {
          "output_type": "stream",
          "text": [
            "127.0.0.1 - - [04/Feb/2021 18:30:35] \"\u001b[37mPOST / HTTP/1.1\u001b[0m\" 200 -\n"
          ],
          "name": "stderr"
        },
        {
          "output_type": "stream",
          "text": [
            "{'update_id': 294559951, 'message': {'message_id': 276, 'from': {'id': 209041395, 'is_bot': False, 'first_name': 'Александр', 'last_name': 'Тараканов', 'username': 'sunndoz', 'language_code': 'ru'}, 'chat': {'id': 209041395, 'first_name': 'Александр', 'last_name': 'Тараканов', 'username': 'sunndoz', 'type': 'private'}, 'date': 1612463440, 'text': '/'}}\n",
            "False\n"
          ],
          "name": "stdout"
        },
        {
          "output_type": "stream",
          "text": [
            "127.0.0.1 - - [04/Feb/2021 18:30:41] \"\u001b[37mPOST / HTTP/1.1\u001b[0m\" 200 -\n"
          ],
          "name": "stderr"
        },
        {
          "output_type": "stream",
          "text": [
            "{'update_id': 294559952, 'message': {'message_id': 278, 'from': {'id': 289630251, 'is_bot': False, 'first_name': 'Денис', 'username': 'Sovenq', 'language_code': 'ru'}, 'chat': {'id': 289630251, 'first_name': 'Денис', 'username': 'Sovenq', 'type': 'private'}, 'date': 1612463447, 'photo': [{'file_id': 'AgACAgIAAxkBAAIBFmAcPVcpfCn0a-mSqmZqHPote6xrAALLsjEbg-bhSNueDbEDKWTgjcBImC4AAwEAAwIAA20AA-WXBgABHgQ', 'file_unique_id': 'AQADjcBImC4AA-WXBgAB', 'file_size': 3595, 'width': 320, 'height': 38}, {'file_id': 'AgACAgIAAxkBAAIBFmAcPVcpfCn0a-mSqmZqHPote6xrAALLsjEbg-bhSNueDbEDKWTgjcBImC4AAwEAAwIAA3gAA-SXBgABHgQ', 'file_unique_id': 'AQADjcBImC4AA-SXBgAB', 'file_size': 4710, 'width': 458, 'height': 54}]}}\n",
            "False\n"
          ],
          "name": "stdout"
        },
        {
          "output_type": "stream",
          "text": [
            "127.0.0.1 - - [04/Feb/2021 18:30:47] \"\u001b[37mPOST / HTTP/1.1\u001b[0m\" 200 -\n"
          ],
          "name": "stderr"
        },
        {
          "output_type": "stream",
          "text": [
            "{'update_id': 294559953, 'message': {'message_id': 280, 'from': {'id': 289630251, 'is_bot': False, 'first_name': 'Денис', 'username': 'Sovenq', 'language_code': 'ru'}, 'chat': {'id': 289630251, 'first_name': 'Денис', 'username': 'Sovenq', 'type': 'private'}, 'date': 1612463509, 'photo': [{'file_id': 'AgACAgIAAxkBAAIBGGAcPZVuxS0GbnSODGYQT0uL0s7IAALMsjEbg-bhSHSkBVUfqM_3B2WJni4AAwEAAwIAA20AA0RpAQABHgQ', 'file_unique_id': 'AQADB2WJni4AA0RpAQAB', 'file_size': 38936, 'width': 228, 'height': 320}, {'file_id': 'AgACAgIAAxkBAAIBGGAcPZVuxS0GbnSODGYQT0uL0s7IAALMsjEbg-bhSHSkBVUfqM_3B2WJni4AAwEAAwIAA3gAA0VpAQABHgQ', 'file_unique_id': 'AQADB2WJni4AA0VpAQAB', 'file_size': 182993, 'width': 570, 'height': 800}, {'file_id': 'AgACAgIAAxkBAAIBGGAcPZVuxS0GbnSODGYQT0uL0s7IAALMsjEbg-bhSHSkBVUfqM_3B2WJni4AAwEAAwIAA3kAA0JpAQABHgQ', 'file_unique_id': 'AQADB2WJni4AA0JpAQAB', 'file_size': 199634, 'width': 700, 'height': 982}]}}\n",
            "False\n"
          ],
          "name": "stdout"
        },
        {
          "output_type": "stream",
          "text": [
            "127.0.0.1 - - [04/Feb/2021 18:31:51] \"\u001b[37mPOST / HTTP/1.1\u001b[0m\" 200 -\n"
          ],
          "name": "stderr"
        },
        {
          "output_type": "stream",
          "text": [
            "{'update_id': 294559954, 'message': {'message_id': 282, 'from': {'id': 289630251, 'is_bot': False, 'first_name': 'Денис', 'username': 'Sovenq', 'language_code': 'ru'}, 'chat': {'id': 289630251, 'first_name': 'Денис', 'username': 'Sovenq', 'type': 'private'}, 'date': 1612463596, 'photo': [{'file_id': 'AgACAgIAAxkBAAIBGmAcPeyXkWF4B06xASewBmEKOiB1AALNsjEbg-bhSG2eAqJC7QmvXijqly4AAwEAAwIAA20AA3WaBgABHgQ', 'file_unique_id': 'AQADXijqly4AA3WaBgAB', 'file_size': 35213, 'width': 226, 'height': 320}, {'file_id': 'AgACAgIAAxkBAAIBGmAcPeyXkWF4B06xASewBmEKOiB1AALNsjEbg-bhSG2eAqJC7QmvXijqly4AAwEAAwIAA3gAA3aaBgABHgQ', 'file_unique_id': 'AQADXijqly4AA3aaBgAB', 'file_size': 158150, 'width': 566, 'height': 800}, {'file_id': 'AgACAgIAAxkBAAIBGmAcPeyXkWF4B06xASewBmEKOiB1AALNsjEbg-bhSG2eAqJC7QmvXijqly4AAwEAAwIAA3kAA3OaBgABHgQ', 'file_unique_id': 'AQADXijqly4AA3OaBgAB', 'file_size': 235637, 'width': 905, 'height': 1280}]}}\n",
            "False\n"
          ],
          "name": "stdout"
        },
        {
          "output_type": "stream",
          "text": [
            "127.0.0.1 - - [04/Feb/2021 18:33:17] \"\u001b[37mPOST / HTTP/1.1\u001b[0m\" 200 -\n"
          ],
          "name": "stderr"
        },
        {
          "output_type": "stream",
          "text": [
            "{'update_id': 294559955, 'message': {'message_id': 284, 'from': {'id': 289630251, 'is_bot': False, 'first_name': 'Денис', 'username': 'Sovenq', 'language_code': 'ru'}, 'chat': {'id': 289630251, 'first_name': 'Денис', 'username': 'Sovenq', 'type': 'private'}, 'date': 1612463626, 'photo': [{'file_id': 'AgACAgIAAxkBAAIBHGAcPgqdMhozihHNDpS7JVkjMLASAALOsjEbg-bhSOqgKx237VV10srUly4AAwEAAwIAA20AA_VpBgABHgQ', 'file_unique_id': 'AQAD0srUly4AA_VpBgAB', 'file_size': 30118, 'width': 240, 'height': 320}, {'file_id': 'AgACAgIAAxkBAAIBHGAcPgqdMhozihHNDpS7JVkjMLASAALOsjEbg-bhSOqgKx237VV10srUly4AAwEAAwIAA3gAA_ZpBgABHgQ', 'file_unique_id': 'AQAD0srUly4AA_ZpBgAB', 'file_size': 90878, 'width': 600, 'height': 800}]}}\n",
            "False\n"
          ],
          "name": "stdout"
        },
        {
          "output_type": "stream",
          "text": [
            "127.0.0.1 - - [04/Feb/2021 18:33:47] \"\u001b[37mPOST / HTTP/1.1\u001b[0m\" 200 -\n"
          ],
          "name": "stderr"
        },
        {
          "output_type": "stream",
          "text": [
            "{'update_id': 294559956, 'message': {'message_id': 286, 'from': {'id': 289630251, 'is_bot': False, 'first_name': 'Денис', 'username': 'Sovenq', 'language_code': 'ru'}, 'chat': {'id': 289630251, 'first_name': 'Денис', 'username': 'Sovenq', 'type': 'private'}, 'date': 1612463634, 'photo': [{'file_id': 'AgACAgIAAxkBAAIBHmAcPhKki0cgPMGbLJf3_d6AijYiAALPsjEbg-bhSK3xHlBqZiXRpLvRly4AAwEAAwIAA20AAx9nBgABHgQ', 'file_unique_id': 'AQADpLvRly4AAx9nBgAB', 'file_size': 28583, 'width': 228, 'height': 320}, {'file_id': 'AgACAgIAAxkBAAIBHmAcPhKki0cgPMGbLJf3_d6AijYiAALPsjEbg-bhSK3xHlBqZiXRpLvRly4AAwEAAwIAA3gAAyBnBgABHgQ', 'file_unique_id': 'AQADpLvRly4AAyBnBgAB', 'file_size': 116225, 'width': 569, 'height': 800}, {'file_id': 'AgACAgIAAxkBAAIBHmAcPhKki0cgPMGbLJf3_d6AijYiAALPsjEbg-bhSK3xHlBqZiXRpLvRly4AAwEAAwIAA3kAAx1nBgABHgQ', 'file_unique_id': 'AQADpLvRly4AAx1nBgAB', 'file_size': 136089, 'width': 768, 'height': 1080}]}}\n",
            "False\n"
          ],
          "name": "stdout"
        },
        {
          "output_type": "stream",
          "text": [
            "127.0.0.1 - - [04/Feb/2021 18:33:55] \"\u001b[37mPOST / HTTP/1.1\u001b[0m\" 200 -\n"
          ],
          "name": "stderr"
        },
        {
          "output_type": "stream",
          "text": [
            "{'update_id': 294559957, 'message': {'message_id': 288, 'from': {'id': 289630251, 'is_bot': False, 'first_name': 'Денис', 'username': 'Sovenq', 'language_code': 'ru'}, 'chat': {'id': 289630251, 'first_name': 'Денис', 'username': 'Sovenq', 'type': 'private'}, 'date': 1612463644, 'document': {'file_name': '1_11.jpg', 'mime_type': 'image/jpeg', 'thumb': {'file_id': 'AAMCAgADGQEAAgEgYBw-HLON7mC4VRnYugABul4eTkVSAAK4CwACg-bhSAABhWCAt4aIeb-UnZ8uAAMBAAdtAAN4CQACHgQ', 'file_unique_id': 'AQADv5Sdny4AA3gJAAI', 'file_size': 30281, 'width': 228, 'height': 320}, 'file_id': 'BQACAgIAAxkBAAIBIGAcPhyzje5guFUZ2LoAAbpeHk5FUgACuAsAAoPm4UgAAYVggLeGiHkeBA', 'file_unique_id': 'AgADuAsAAoPm4Ug', 'file_size': 269679}}}\n",
            "False\n"
          ],
          "name": "stdout"
        },
        {
          "output_type": "stream",
          "text": [
            "127.0.0.1 - - [04/Feb/2021 18:34:05] \"\u001b[37mPOST / HTTP/1.1\u001b[0m\" 200 -\n"
          ],
          "name": "stderr"
        },
        {
          "output_type": "stream",
          "text": [
            "{'update_id': 294559958, 'message': {'message_id': 290, 'from': {'id': 289630251, 'is_bot': False, 'first_name': 'Денис', 'username': 'Sovenq', 'language_code': 'ru'}, 'chat': {'id': 289630251, 'first_name': 'Денис', 'username': 'Sovenq', 'type': 'private'}, 'date': 1612463653, 'photo': [{'file_id': 'AgACAgIAAxkBAAIBImAcPiU_iUse9PSSBp4dq0c7YDMFAALNsjEbg-bhSG2eAqJC7QmvXijqly4AAwEAAwIAA20AA3WaBgABHgQ', 'file_unique_id': 'AQADXijqly4AA3WaBgAB', 'file_size': 35213, 'width': 226, 'height': 320}, {'file_id': 'AgACAgIAAxkBAAIBImAcPiU_iUse9PSSBp4dq0c7YDMFAALNsjEbg-bhSG2eAqJC7QmvXijqly4AAwEAAwIAA3gAA3aaBgABHgQ', 'file_unique_id': 'AQADXijqly4AA3aaBgAB', 'file_size': 158150, 'width': 566, 'height': 800}, {'file_id': 'AgACAgIAAxkBAAIBImAcPiU_iUse9PSSBp4dq0c7YDMFAALNsjEbg-bhSG2eAqJC7QmvXijqly4AAwEAAwIAA3kAA3OaBgABHgQ', 'file_unique_id': 'AQADXijqly4AA3OaBgAB', 'file_size': 235637, 'width': 905, 'height': 1280}]}}\n",
            "False\n"
          ],
          "name": "stdout"
        },
        {
          "output_type": "stream",
          "text": [
            "127.0.0.1 - - [04/Feb/2021 18:34:14] \"\u001b[37mPOST / HTTP/1.1\u001b[0m\" 200 -\n"
          ],
          "name": "stderr"
        },
        {
          "output_type": "stream",
          "text": [
            "{'update_id': 294559959, 'message': {'message_id': 292, 'from': {'id': 209041395, 'is_bot': False, 'first_name': 'Александр', 'last_name': 'Тараканов', 'username': 'sunndoz', 'language_code': 'ru'}, 'chat': {'id': 209041395, 'first_name': 'Александр', 'last_name': 'Тараканов', 'username': 'sunndoz', 'type': 'private'}, 'date': 1612463785, 'photo': [{'file_id': 'AgACAgIAAxkBAAIBJGAcPql6SePkB7IcY-5KhC3wxMIzAAKTsTEbW3_hSLwepXtpdfLREEwQmC4AAwEAAwIAA20AA-mbBgABHgQ', 'file_unique_id': 'AQADEEwQmC4AA-mbBgAB', 'file_size': 4081, 'width': 320, 'height': 85}, {'file_id': 'AgACAgIAAxkBAAIBJGAcPql6SePkB7IcY-5KhC3wxMIzAAKTsTEbW3_hSLwepXtpdfLREEwQmC4AAwEAAwIAA3gAA-ibBgABHgQ', 'file_unique_id': 'AQADEEwQmC4AA-ibBgAB', 'file_size': 6888, 'width': 544, 'height': 144}]}}\n",
            "False\n"
          ],
          "name": "stdout"
        },
        {
          "output_type": "stream",
          "text": [
            "127.0.0.1 - - [04/Feb/2021 18:36:26] \"\u001b[37mPOST / HTTP/1.1\u001b[0m\" 200 -\n"
          ],
          "name": "stderr"
        },
        {
          "output_type": "stream",
          "text": [
            "{'update_id': 294559960, 'message': {'message_id': 294, 'from': {'id': 209041395, 'is_bot': False, 'first_name': 'Александр', 'last_name': 'Тараканов', 'username': 'sunndoz', 'language_code': 'ru'}, 'chat': {'id': 209041395, 'first_name': 'Александр', 'last_name': 'Тараканов', 'username': 'sunndoz', 'type': 'private'}, 'date': 1612463941, 'photo': [{'file_id': 'AgACAgIAAxkBAAIBJmAcP0W2dfLSaumA3nya-Bi2YKXUAAKUsTEbW3_hSKuMYi34VuJaVcIpmy4AAwEAAwIAA20AA1hKAgABHgQ', 'file_unique_id': 'AQADVcIpmy4AA1hKAgAB', 'file_size': 6886, 'width': 320, 'height': 84}, {'file_id': 'AgACAgIAAxkBAAIBJmAcP0W2dfLSaumA3nya-Bi2YKXUAAKUsTEbW3_hSKuMYi34VuJaVcIpmy4AAwEAAwIAA3gAA1dKAgABHgQ', 'file_unique_id': 'AQADVcIpmy4AA1dKAgAB', 'file_size': 11629, 'width': 520, 'height': 136}]}}\n",
            "False\n"
          ],
          "name": "stdout"
        },
        {
          "output_type": "stream",
          "text": [
            "127.0.0.1 - - [04/Feb/2021 18:39:03] \"\u001b[37mPOST / HTTP/1.1\u001b[0m\" 200 -\n"
          ],
          "name": "stderr"
        },
        {
          "output_type": "stream",
          "text": [
            "{'update_id': 294559961, 'message': {'message_id': 296, 'from': {'id': 289630251, 'is_bot': False, 'first_name': 'Денис', 'username': 'Sovenq', 'language_code': 'ru'}, 'chat': {'id': 289630251, 'first_name': 'Денис', 'username': 'Sovenq', 'type': 'private'}, 'date': 1612464108, 'photo': [{'file_id': 'AgACAgIAAxkBAAIBKGAcP-wm4FqwTWNpStVR1HE4uShNAALRsjEbg-bhSKL_SLpm1-x8dQVtly4AAwEAAwIAA20AA7SlBgABHgQ', 'file_unique_id': 'AQADdQVtly4AA7SlBgAB', 'file_size': 2852, 'width': 195, 'height': 118}]}}\n",
            "False\n"
          ],
          "name": "stdout"
        },
        {
          "output_type": "stream",
          "text": [
            "127.0.0.1 - - [04/Feb/2021 18:41:49] \"\u001b[37mPOST / HTTP/1.1\u001b[0m\" 200 -\n"
          ],
          "name": "stderr"
        },
        {
          "output_type": "stream",
          "text": [
            "{'update_id': 294559962, 'message': {'message_id': 298, 'from': {'id': 209041395, 'is_bot': False, 'first_name': 'Александр', 'last_name': 'Тараканов', 'username': 'sunndoz', 'language_code': 'ru'}, 'chat': {'id': 209041395, 'first_name': 'Александр', 'last_name': 'Тараканов', 'username': 'sunndoz', 'type': 'private'}, 'date': 1612464123, 'photo': [{'file_id': 'AgACAgIAAxkBAAIBKmAcP_u9Sg1aCY9xtPBlOTDg7kCjAAKVsTEbW3_hSGzjsNTjiu8uPU5VmS4AAwEAAwIAA20AA4pZBAABHgQ', 'file_unique_id': 'AQADPU5VmS4AA4pZBAAB', 'file_size': 3781, 'width': 320, 'height': 85}, {'file_id': 'AgACAgIAAxkBAAIBKmAcP_u9Sg1aCY9xtPBlOTDg7kCjAAKVsTEbW3_hSGzjsNTjiu8uPU5VmS4AAwEAAwIAA3kAA4hZBAABHgQ', 'file_unique_id': 'AQADPU5VmS4AA4hZBAAB', 'file_size': 11963, 'width': 890, 'height': 236}, {'file_id': 'AgACAgIAAxkBAAIBKmAcP_u9Sg1aCY9xtPBlOTDg7kCjAAKVsTEbW3_hSGzjsNTjiu8uPU5VmS4AAwEAAwIAA3gAA4lZBAABHgQ', 'file_unique_id': 'AQADPU5VmS4AA4lZBAAB', 'file_size': 14396, 'width': 800, 'height': 212}]}}\n",
            "False\n"
          ],
          "name": "stdout"
        },
        {
          "output_type": "stream",
          "text": [
            "127.0.0.1 - - [04/Feb/2021 18:42:04] \"\u001b[37mPOST / HTTP/1.1\u001b[0m\" 200 -\n"
          ],
          "name": "stderr"
        },
        {
          "output_type": "stream",
          "text": [
            "{'update_id': 294559963, 'message': {'message_id': 299, 'from': {'id': 289630251, 'is_bot': False, 'first_name': 'Денис', 'username': 'Sovenq', 'language_code': 'ru'}, 'chat': {'id': 289630251, 'first_name': 'Денис', 'username': 'Sovenq', 'type': 'private'}, 'date': 1612464126, 'photo': [{'file_id': 'AgACAgIAAxkBAAIBK2AcP_4-GbCHJljIsR6mrG0PijEaAALSsjEbg-bhSEaAzXaSJ6CbRD_wly4AAwEAAwIAA20AA4-JBgABHgQ', 'file_unique_id': 'AQADRD_wly4AA4-JBgAB', 'file_size': 3348, 'width': 274, 'height': 196}]}}\n",
            "False\n"
          ],
          "name": "stdout"
        },
        {
          "output_type": "stream",
          "text": [
            "127.0.0.1 - - [04/Feb/2021 18:42:07] \"\u001b[37mPOST / HTTP/1.1\u001b[0m\" 200 -\n"
          ],
          "name": "stderr"
        },
        {
          "output_type": "stream",
          "text": [
            "{'update_id': 294559964, 'message': {'message_id': 301, 'from': {'id': 209041395, 'is_bot': False, 'first_name': 'Александр', 'last_name': 'Тараканов', 'username': 'sunndoz', 'language_code': 'ru'}, 'chat': {'id': 209041395, 'first_name': 'Александр', 'last_name': 'Тараканов', 'username': 'sunndoz', 'type': 'private'}, 'date': 1612464159, 'photo': [{'file_id': 'AgACAgIAAxkBAAIBLWAcQB-sLoIjigJ4kzoN2XOcKmHKAAKWsTEbW3_hSNz1rfXXc78sveJNni4AAwEAAwIAA20AA6xwAQABHgQ', 'file_unique_id': 'AQADveJNni4AA6xwAQAB', 'file_size': 3435, 'width': 320, 'height': 67}, {'file_id': 'AgACAgIAAxkBAAIBLWAcQB-sLoIjigJ4kzoN2XOcKmHKAAKWsTEbW3_hSNz1rfXXc78sveJNni4AAwEAAwIAA3kAA6lwAQABHgQ', 'file_unique_id': 'AQADveJNni4AA6lwAQAB', 'file_size': 11361, 'width': 936, 'height': 196}, {'file_id': 'AgACAgIAAxkBAAIBLWAcQB-sLoIjigJ4kzoN2XOcKmHKAAKWsTEbW3_hSNz1rfXXc78sveJNni4AAwEAAwIAA3gAA6pwAQABHgQ', 'file_unique_id': 'AQADveJNni4AA6pwAQAB', 'file_size': 12568, 'width': 800, 'height': 168}]}}\n",
            "False\n"
          ],
          "name": "stdout"
        },
        {
          "output_type": "stream",
          "text": [
            "127.0.0.1 - - [04/Feb/2021 18:42:40] \"\u001b[37mPOST / HTTP/1.1\u001b[0m\" 200 -\n"
          ],
          "name": "stderr"
        },
        {
          "output_type": "stream",
          "text": [
            "{'update_id': 294559965, 'message': {'message_id': 303, 'from': {'id': 289630251, 'is_bot': False, 'first_name': 'Денис', 'username': 'Sovenq', 'language_code': 'ru'}, 'chat': {'id': 289630251, 'first_name': 'Денис', 'username': 'Sovenq', 'type': 'private'}, 'date': 1612464217, 'photo': [{'file_id': 'AgACAgIAAxkBAAIBL2AcQFnssUTSE60SJSKng_mhaKdGAALVsjEbg-bhSOXVmH9t4FsTmC5EmC4AAwEAAwIAA20AA5uTBgABHgQ', 'file_unique_id': 'AQADmC5EmC4AA5uTBgAB', 'file_size': 2281, 'width': 164, 'height': 148}]}}\n",
            "False\n"
          ],
          "name": "stdout"
        },
        {
          "output_type": "stream",
          "text": [
            "127.0.0.1 - - [04/Feb/2021 18:43:38] \"\u001b[37mPOST / HTTP/1.1\u001b[0m\" 200 -\n"
          ],
          "name": "stderr"
        }
      ]
    },
    {
      "cell_type": "code",
      "metadata": {
        "id": "zQN61JK2xdsH"
      },
      "source": [
        ""
      ],
      "execution_count": 30,
      "outputs": []
    }
  ]
}